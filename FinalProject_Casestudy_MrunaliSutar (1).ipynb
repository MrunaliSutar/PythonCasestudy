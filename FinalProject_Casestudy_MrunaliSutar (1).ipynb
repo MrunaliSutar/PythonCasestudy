{
  "nbformat": 4,
  "nbformat_minor": 0,
  "metadata": {
    "colab": {
      "private_outputs": true,
      "provenance": []
    },
    "kernelspec": {
      "name": "python3",
      "display_name": "Python 3"
    },
    "language_info": {
      "name": "python"
    }
  },
  "cells": [
    {
      "cell_type": "code",
      "execution_count": null,
      "metadata": {
        "id": "eqdkhNb4yqQc"
      },
      "outputs": [],
      "source": [
        "import pandas as pd\n"
      ]
    },
    {
      "cell_type": "code",
      "source": [
        "data = pd.read_excel('/content/pizza_delivery (1).xlsx')\n",
        "\n",
        "print(data.head())\n"
      ],
      "metadata": {
        "id": "wcPPTIT90Iyo"
      },
      "execution_count": null,
      "outputs": []
    },
    {
      "cell_type": "code",
      "source": [
        "import pandas as pd\n",
        "import matplotlib.pyplot as plt\n",
        "import seaborn as sns\n",
        "\n",
        "\n",
        "# 1. Date-wise pizza sales\n",
        "date_pizza = pd.DataFrame({\n",
        "    'date': pd.date_range(start='2023-01-01', periods=30),\n",
        "    'pizzas_sold': [50, 45, 60, 55, 70, 65, 80, 75, 90, 85, 95, 100, 110, 105, 120, 115, 130, 125, 140, 135, 150, 145, 160, 155, 170, 165, 180, 175, 190, 200]\n",
        "})\n",
        "\n",
        "\n",
        "\n",
        "# 2. Time and temperature data\n",
        "time_temp = pd.DataFrame({\n",
        "    'delivery_time': [15, 18, 20, 25, 30, 35, 40, 45, 50, 55],\n",
        "    'temperature': [55, 60, 65, 70, 75, 80, 85, 90, 95, 100]\n",
        "})\n",
        "\n",
        "# 3. Day-wise discount data\n",
        "day_discount = pd.DataFrame({\n",
        "    'day_of_week': ['Monday', 'Tuesday', 'Wednesday', 'Thursday', 'Friday', 'Saturday', 'Sunday'],\n",
        "    'discount_customers': [10, 12, 15, 20, 25, 30, 35]\n",
        "})\n",
        "\n",
        "date_pizza['date'] = pd.to_datetime(date_pizza['date'])\n",
        "\n",
        "\n",
        "\n",
        "# 1. Date-wise Pizza Sales Analysis\n",
        "plt.figure(figsize=(12, 6))\n",
        "plt.plot(date_pizza['date'], date_pizza['pizzas_sold'], marker='o', color='orange')\n",
        "plt.title('Pizza Sales Over Time', fontsize=16)\n",
        "plt.xlabel('Date', fontsize=12)\n",
        "plt.ylabel('Pizzas Sold', fontsize=12)\n",
        "plt.grid(alpha=0.3)\n",
        "plt.xticks(rotation=45)\n",
        "plt.show()\n",
        "\n",
        "\n",
        "# 2. Delivery Time vs. Temperature Analysis\n",
        "plt.figure(figsize=(10, 6))\n",
        "sns.scatterplot(x='temperature', y='delivery_time', data=time_temp, color='blue', s=100)\n",
        "plt.title('Delivery Time vs Temperature', fontsize=16)\n",
        "plt.xlabel('Temperature (°F)', fontsize=12)\n",
        "plt.ylabel('Delivery Time (minutes)', fontsize=12)\n",
        "plt.grid(True)\n",
        "plt.show()\n",
        "\n",
        "# 3. Day-wise Discount Customer Analysis\n",
        "plt.figure(figsize=(10, 6))\n",
        "sns.barplot(x='day_of_week', y='discount_customers', data=day_discount, palette='coolwarm')\n",
        "plt.title('Discount Customers by Day of the Week', fontsize=16)\n",
        "plt.xlabel('Day of the Week', fontsize=12)\n",
        "plt.ylabel('Number of Discount Customers', fontsize=12)\n",
        "plt.xticks(rotation=45)\n",
        "plt.show()\n",
        "\n",
        "\n",
        "correlation = time_temp.corr()\n",
        "print(\"Correlation between delivery time and temperature:\")\n",
        "print(correlation)\n",
        "\n",
        "plt.figure(figsize=(8, 6))\n",
        "sns.heatmap(correlation, annot=True, cmap='coolwarm', fmt='.2f')\n",
        "plt.title('Correlation Heatmap', fontsize=16)\n",
        "plt.show()\n",
        "\n",
        "# 4. Pizza Sales and Free Wine Analysis\n",
        "\n",
        "combined_data = branch_wine.copy()\n",
        "combined_data['average_pizzas_sold'] = [150, 140, 160, 130]\n",
        "\n",
        "plt.figure(figsize=(10, 6))\n",
        "sns.scatterplot(x='average_pizzas_sold', y='free_wine_bottles', hue='branch', data=combined_data, s=200)\n",
        "plt.title('Pizza Sales vs Free Wine Bottles by Branch', fontsize=16)\n",
        "plt.xlabel('Average Pizzas Sold', fontsize=12)\n",
        "plt.ylabel('Free Wine Bottles', fontsize=12)\n",
        "plt.legend(title='Branch')\n",
        "plt.grid(alpha=0.3)\n",
        "plt.show()"
      ],
      "metadata": {
        "id": "Z2IUvZtizssc"
      },
      "execution_count": null,
      "outputs": []
    },
    {
      "cell_type": "code",
      "source": [],
      "metadata": {
        "id": "mpRjx6tfw3H0"
      },
      "execution_count": null,
      "outputs": []
    }
  ]
}